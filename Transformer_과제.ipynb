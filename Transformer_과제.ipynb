{
 "cells": [
  {
   "cell_type": "markdown",
   "metadata": {
    "id": "ymxatB5WYxlL"
   },
   "source": [
    "# Transformer 실습\n",
    "\n",
    "이번 실습에서는 감정 분석 task에 RNN 대신 Transformer를 구현하여 적용해 볼 것입니다.\n",
    "Library import나 dataloader 생성은 RNN 실습 때와 똑같기 때문에 설명은 넘어가도록 하겠습니다."
   ]
  },
  {
   "cell_type": "code",
   "execution_count": 1,
   "metadata": {
    "id": "1X7RM2du1zcr",
    "outputId": "d55cac8d-975b-4f67-a2f0-6b09565650c1"
   },
   "outputs": [],
   "source": [
    "import torch, gc\n",
    "gc.collect()\n",
    "torch.cuda.empty_cache()"
   ]
  },
  {
   "cell_type": "code",
   "execution_count": 2,
   "metadata": {
    "id": "HOdhoBVA1zcu"
   },
   "outputs": [
    {
     "name": "stderr",
     "output_type": "stream",
     "text": [
      "Using cache found in C:\\Users\\suzuk/.cache\\torch\\hub\\huggingface_pytorch-transformers_main\n",
      "C:\\Users\\suzuk\\anaconda3\\Lib\\site-packages\\transformers\\tokenization_utils_base.py:1601: FutureWarning: `clean_up_tokenization_spaces` was not set. It will be set to `True` by default. This behavior will be depracted in transformers v4.45, and will be then set to `False` by default. For more details check this issue: https://github.com/huggingface/transformers/issues/31884\n",
      "  warnings.warn(\n"
     ]
    }
   ],
   "source": [
    "import matplotlib.pyplot as plt\n",
    "import torch\n",
    "from datasets import load_dataset\n",
    "from torch.utils.data import DataLoader\n",
    "from transformers import BertTokenizerFast\n",
    "from tokenizers import (\n",
    "    decoders,\n",
    "    models,\n",
    "    normalizers,\n",
    "    pre_tokenizers,\n",
    "    processors,\n",
    "    trainers,\n",
    "    Tokenizer,\n",
    ")\n",
    "\n",
    "\n",
    "ds = load_dataset(\"stanfordnlp/imdb\")\n",
    "tokenizer = torch.hub.load('huggingface/pytorch-transformers', 'tokenizer', 'bert-base-uncased')\n",
    "\n",
    "\n",
    "def collate_fn(batch):\n",
    "  max_len = 400\n",
    "  texts, labels = [], []\n",
    "  for row in batch:\n",
    "    labels.append(row['label'])\n",
    "    texts.append(row['text'])\n",
    "\n",
    "  texts = torch.LongTensor(tokenizer(texts, padding=True, truncation=True, max_length=max_len).input_ids)\n",
    "  labels = torch.LongTensor(labels)\n",
    "\n",
    "  return texts, labels\n",
    "\n",
    "\n",
    "train_loader = DataLoader(\n",
    "    ds['train'], batch_size=64, shuffle=True, collate_fn=collate_fn\n",
    ")\n",
    "test_loader = DataLoader(\n",
    "    ds['test'], batch_size=64, shuffle=False, collate_fn=collate_fn\n",
    ")"
   ]
  },
  {
   "cell_type": "code",
   "execution_count": 3,
   "metadata": {
    "id": "MBlMVMZcRAxv"
   },
   "outputs": [
    {
     "name": "stderr",
     "output_type": "stream",
     "text": [
      "<>:13: SyntaxWarning: \"is not\" with a literal. Did you mean \"!=\"?\n",
      "<>:13: SyntaxWarning: \"is not\" with a literal. Did you mean \"!=\"?\n",
      "C:\\Users\\suzuk\\AppData\\Local\\Temp\\ipykernel_10368\\2979245485.py:13: SyntaxWarning: \"is not\" with a literal. Did you mean \"!=\"?\n",
      "  except round(d_model/n_heads,0) % n_heads is not 0:\n"
     ]
    }
   ],
   "source": [
    "from torch import nn\n",
    "from math import sqrt\n",
    "\n",
    "\n",
    "class MultiHeadAttention(nn.Module):\n",
    "    #input_dim = 임베딩 차원 / d_model = q,k,v가 가질 차원의 크기\n",
    "  def __init__(self, input_dim, d_model, n_heads):\n",
    "    super().__init__()\n",
    "    try:\n",
    "        self.input_dim = input_dim\n",
    "        self.d_prime_model = int(round(d_model/n_heads,0))\n",
    "        self.n_heads = n_heads\n",
    "    except round(d_model/n_heads,0) % n_heads is not 0:\n",
    "        print('round(d_model/n_heads,0) % n_heads is not 0')\n",
    "        \n",
    "    self.wq = nn.Linear(input_dim, d_model) #쿼리벡터 생성\n",
    "    self.wk = nn.Linear(input_dim, d_model) #키 벡터 생성\n",
    "    self.wv = nn.Linear(input_dim, d_model) #밸류 벡터 생성\n",
    "    self.dense = nn.Linear(d_model, d_model) #어텐션 최종 out 을 위해.\n",
    "    self.softmax = nn.Softmax(dim=-1)\n",
    "    \n",
    "\n",
    "  def forward(self, x, mask):   \n",
    "    q, k, v = self.wq(x), self.wk(x), self.wv(x)\n",
    "    # B S H D' 에서 B H S D'으로 변경 필요\n",
    "    # B S H D' 은 batch 안에 sequentioal가 key인 H vs D' 행렬이 존재하므로 Head가 종속적\n",
    "    # B H S D'은 batch 안에 head가 key 인 S vs D' 행렬이 존재 하므로 Head가 독립적\n",
    "    q = q.view(q.shape[0], q.shape[1], self.n_heads, self.d_prime_model).transpose(1,2)\n",
    "    k = k.view(k.shape[0], k.shape[1], self.n_heads, self.d_prime_model).transpose(1,2)\n",
    "    v = v.view(v.shape[0], v.shape[1], self.n_heads, self.d_prime_model).transpose(1,2)\n",
    "\n",
    "    # B H S D' * B H D' S = B H S S\n",
    "    # 각 head에 따른 상관도를 확인 가능\n",
    "    score = torch.matmul(q, k.transpose(-1, -2)) \n",
    "    score = score / sqrt(self.d_prime_model)\n",
    "    \n",
    "    if mask is not None:\n",
    "    #마스크가 있다면 실행, 마스크가 있는곳은 1로 되어져있으므로 가장 작은수를 곱하고 더함\n",
    "    #soft max 함수 이후에 0에 근사함\n",
    "    #mask(B S S) 와 현 score(B H S S) 텐서 형식이 다르므로 통일 해줘야함.\n",
    "        mask = mask.unsqueeze(1)\n",
    "    #unsqueeze를 통해 B 1 S S로 만듬\n",
    "        score = score + (mask * -1e9)\n",
    "\n",
    "    score = self.softmax(score) # B H S S\n",
    "    result = torch.matmul(score, v) # B H S D'\n",
    "    result = result.transpose(1,2).contiguous()\n",
    "    result = result.view(result.shape[0], result.shape[1], -1) # B S D\n",
    "    result = self.dense(result)\n",
    "    return result"
   ]
  },
  {
   "cell_type": "code",
   "execution_count": 4,
   "metadata": {
    "id": "VZHPCn9AS5Gp"
   },
   "outputs": [],
   "source": [
    "class TransformerLayer(nn.Module):\n",
    "  def __init__(self, input_dim, d_model, dff, dropout):\n",
    "    super().__init__()\n",
    "\n",
    "    self.input_dim = input_dim\n",
    "    self.d_model = d_model\n",
    "    self.dff = dff\n",
    "\n",
    "    self.MHA = MultiHeadAttention(input_dim, d_model, 4)\n",
    "    self.ffn = nn.Sequential(\n",
    "      nn.Linear(d_model, dff),\n",
    "      nn.ReLU(),\n",
    "      nn.Linear(dff, d_model)\n",
    "    )\n",
    "    self.dropout1 = nn.Dropout(p=dropout)  # 적절한 p 값을 설정\n",
    "    self.dropout2 = nn.Dropout(p=dropout)  # 적절한 p 값을 설정\n",
    "\n",
    "    self.layer_norm1 = nn.LayerNorm(d_model)  # Layer Normalization 정의\n",
    "    self.layer_norm2 = nn.LayerNorm(d_model)  # Layer Normalization 정의\n",
    "\n",
    "  def forward(self, x, mask):\n",
    "    x1 = self.MHA(x, mask)\n",
    "    x1 = self.dropout1(x1)\n",
    "    x1 = self.layer_norm1(x1 + x)\n",
    "\n",
    "    x2 = self.ffn(x)\n",
    "    x2 = self.dropout2(x2)\n",
    "    x2 = self.layer_norm2(x2 + x1)\n",
    "\n",
    "    return x2"
   ]
  },
  {
   "cell_type": "code",
   "execution_count": 5,
   "metadata": {
    "colab": {
     "base_uri": "https://localhost:8080/"
    },
    "executionInfo": {
     "elapsed": 16,
     "status": "ok",
     "timestamp": 1723896343031,
     "user": {
      "displayName": "조승혁",
      "userId": "15759752471844115325"
     },
     "user_tz": -540
    },
    "id": "Uf_jMQWDUR79",
    "outputId": "534712be-1522-4d32-81b7-87f50a6f1f2a"
   },
   "outputs": [
    {
     "name": "stdout",
     "output_type": "stream",
     "text": [
      "torch.Size([1, 400, 256])\n"
     ]
    }
   ],
   "source": [
    "import numpy as np\n",
    "\n",
    "def get_angles(pos, i, d_model):\n",
    "    angle_rates = 1 / np.power(10000, (2 * (i // 2)) / np.float32(d_model))\n",
    "    return pos * angle_rates\n",
    "\n",
    "def positional_encoding(position, d_model):\n",
    "    angle_rads = get_angles(np.arange(position)[:, None], np.arange(d_model)[None, :], d_model)\n",
    "    angle_rads[:, 0::2] = np.sin(angle_rads[:, 0::2])\n",
    "    angle_rads[:, 1::2] = np.cos(angle_rads[:, 1::2])\n",
    "    pos_encoding = angle_rads[None, ...]\n",
    "\n",
    "    return torch.FloatTensor(pos_encoding)\n",
    "\n",
    "\n",
    "max_len = 400\n",
    "print(positional_encoding(max_len, 256).shape)"
   ]
  },
  {
   "cell_type": "code",
   "execution_count": 6,
   "metadata": {
    "id": "8MaiCGh8TsDH"
   },
   "outputs": [],
   "source": [
    "class TextClassifier(nn.Module):\n",
    "  def __init__(self, vocab_size, d_model, n_layers, dff, dropout):\n",
    "    super().__init__()\n",
    "\n",
    "    self.vocab_size = vocab_size\n",
    "    self.d_model = d_model\n",
    "    self.n_layers = n_layers\n",
    "    self.dff = dff\n",
    "\n",
    "    self.embedding = nn.Embedding(vocab_size, d_model)\n",
    "    self.pos_encoding = nn.parameter.Parameter(positional_encoding(max_len, d_model), requires_grad=False)\n",
    "    self.layers = nn.ModuleList([TransformerLayer(d_model, d_model, dff, dropout) for _ in range(n_layers)])\n",
    "    self.classification = nn.Linear(d_model, 1)\n",
    "\n",
    "  def forward(self, x):\n",
    "    mask = (x == tokenizer.pad_token_id)\n",
    "    mask = mask[:, None, :]\n",
    "    seq_len = x.shape[1]\n",
    "    x = self.embedding(x)\n",
    "    x = x * sqrt(self.d_model)\n",
    "    x = x + self.pos_encoding[:, :seq_len]\n",
    "\n",
    "    for layer in self.layers:\n",
    "      x = layer(x, mask)\n",
    "\n",
    "    x = x[:, 0]\n",
    "    x = self.classification(x)\n",
    "\n",
    "    return x\n"
   ]
  },
  {
   "cell_type": "code",
   "execution_count": 7,
   "metadata": {
    "id": "YHVVsWBPQmnv",
    "outputId": "64b5790f-7649-4a47-95f8-bebe158aba4f"
   },
   "outputs": [],
   "source": [
    "from torch.optim import Adam\n",
    "\n",
    "lr = 0.001\n",
    "loss_fn = nn.BCEWithLogitsLoss()"
   ]
  },
  {
   "cell_type": "code",
   "execution_count": 8,
   "metadata": {
    "id": "r88BALxO1zc1"
   },
   "outputs": [],
   "source": [
    "import numpy as np\n",
    "import matplotlib.pyplot as plt\n",
    "\n",
    "def accuracy(model, dataloader):\n",
    "  cnt = 0\n",
    "  acc = 0\n",
    "\n",
    "  for data in dataloader:\n",
    "    inputs, labels = data\n",
    "    inputs, labels = inputs.to('cuda'), labels.to('cuda')\n",
    "\n",
    "    preds = model(inputs)\n",
    "    # preds = torch.argmax(preds, dim=-1)\n",
    "    preds = (preds > 0).long()[..., 0]\n",
    "\n",
    "    cnt += labels.shape[0]\n",
    "    acc += (labels == preds).sum().item()\n",
    "\n",
    "  return acc / cnt"
   ]
  },
  {
   "cell_type": "code",
   "execution_count": 12,
   "metadata": {},
   "outputs": [],
   "source": [
    "train_acc_list = []\n",
    "test_acc_list = []\n",
    "\n",
    "def train_and_test(n_epochs, dropout):\n",
    "    model = TextClassifier(len(tokenizer), 32, 5, 32, dropout)\n",
    "    model = model.to('cuda')\n",
    "    optimizer = Adam(model.parameters(), lr=lr)\n",
    "    \n",
    "    n_epochs = n_epochs\n",
    "\n",
    "    for epoch in range(n_epochs):\n",
    "        total_loss = 0.\n",
    "        model.train()\n",
    "        \n",
    "        for data in train_loader:\n",
    "            model.zero_grad()\n",
    "            inputs, labels = data\n",
    "            inputs, labels = inputs.to('cuda'), labels.to('cuda').float()\n",
    "            preds = model(inputs)[..., 0]\n",
    "            loss = loss_fn(preds, labels)\n",
    "            loss.backward()\n",
    "            optimizer.step()\n",
    "            total_loss += loss.item()\n",
    "        \n",
    "      \n",
    "        print(f\"Epoch {epoch:3d} | Train Loss: {total_loss}\")\n",
    "        \n",
    "        with torch.no_grad():\n",
    "            model.eval()\n",
    "            train_acc = accuracy(model, train_loader)\n",
    "            test_acc = accuracy(model, test_loader)\n",
    "            print(f\"=========> Train acc: {train_acc:.3f} | Test acc: {test_acc:.3f}\")\n",
    "            train_acc_list.append(train_acc*100)\n",
    "            test_acc_list.append(test_acc*100)"
   ]
  },
  {
   "cell_type": "code",
   "execution_count": 13,
   "metadata": {},
   "outputs": [
    {
     "name": "stdout",
     "output_type": "stream",
     "text": [
      "Epoch   0 | Train Loss: 217.69080284237862\n",
      "=========> Train acc: 0.812 | Test acc: 0.781\n",
      "Epoch   1 | Train Loss: 151.5949199348688\n",
      "=========> Train acc: 0.877 | Test acc: 0.820\n",
      "Epoch   2 | Train Loss: 127.35777093470097\n",
      "=========> Train acc: 0.908 | Test acc: 0.830\n",
      "Epoch   3 | Train Loss: 103.54092540591955\n",
      "=========> Train acc: 0.909 | Test acc: 0.819\n",
      "Epoch   4 | Train Loss: 83.85744083300233\n",
      "=========> Train acc: 0.954 | Test acc: 0.837\n",
      "Epoch   5 | Train Loss: 65.89293328486383\n",
      "=========> Train acc: 0.969 | Test acc: 0.836\n",
      "Epoch   6 | Train Loss: 54.17129115015268\n",
      "=========> Train acc: 0.977 | Test acc: 0.833\n",
      "Epoch   7 | Train Loss: 42.05539043992758\n",
      "=========> Train acc: 0.982 | Test acc: 0.830\n",
      "Epoch   8 | Train Loss: 33.30220951512456\n",
      "=========> Train acc: 0.988 | Test acc: 0.828\n",
      "Epoch   9 | Train Loss: 28.776422660332173\n",
      "=========> Train acc: 0.987 | Test acc: 0.827\n",
      "Epoch  10 | Train Loss: 26.267842879518867\n",
      "=========> Train acc: 0.990 | Test acc: 0.829\n",
      "Epoch  11 | Train Loss: 21.898571379482746\n",
      "=========> Train acc: 0.993 | Test acc: 0.829\n",
      "Epoch  12 | Train Loss: 20.299276206176728\n",
      "=========> Train acc: 0.991 | Test acc: 0.831\n",
      "Epoch  13 | Train Loss: 19.603236839640886\n",
      "=========> Train acc: 0.993 | Test acc: 0.829\n",
      "Epoch  14 | Train Loss: 17.851078940555453\n",
      "=========> Train acc: 0.990 | Test acc: 0.824\n",
      "Epoch  15 | Train Loss: 17.767212664708495\n",
      "=========> Train acc: 0.992 | Test acc: 0.826\n",
      "Epoch  16 | Train Loss: 16.555834374390543\n",
      "=========> Train acc: 0.996 | Test acc: 0.828\n",
      "Epoch  17 | Train Loss: 13.904110066127032\n",
      "=========> Train acc: 0.994 | Test acc: 0.824\n",
      "Epoch  18 | Train Loss: 16.207157969241962\n",
      "=========> Train acc: 0.993 | Test acc: 0.820\n",
      "Epoch  19 | Train Loss: 13.801025803433731\n",
      "=========> Train acc: 0.995 | Test acc: 0.828\n",
      "Epoch  20 | Train Loss: 15.980777284130454\n",
      "=========> Train acc: 0.995 | Test acc: 0.826\n",
      "Epoch  21 | Train Loss: 13.288460402749479\n",
      "=========> Train acc: 0.995 | Test acc: 0.826\n",
      "Epoch  22 | Train Loss: 12.54546893259976\n",
      "=========> Train acc: 0.994 | Test acc: 0.820\n",
      "Epoch  23 | Train Loss: 13.629663341213018\n",
      "=========> Train acc: 0.996 | Test acc: 0.826\n",
      "Epoch  24 | Train Loss: 11.65589945926331\n",
      "=========> Train acc: 0.994 | Test acc: 0.825\n",
      "Epoch  25 | Train Loss: 13.887175865704194\n",
      "=========> Train acc: 0.990 | Test acc: 0.816\n",
      "Epoch  26 | Train Loss: 12.86578153539449\n",
      "=========> Train acc: 0.995 | Test acc: 0.821\n",
      "Epoch  27 | Train Loss: 12.70666741556488\n",
      "=========> Train acc: 0.993 | Test acc: 0.825\n",
      "Epoch  28 | Train Loss: 11.284380191238597\n",
      "=========> Train acc: 0.995 | Test acc: 0.827\n",
      "Epoch  29 | Train Loss: 12.17345714836847\n",
      "=========> Train acc: 0.996 | Test acc: 0.827\n",
      "Epoch  30 | Train Loss: 11.841139496071264\n",
      "=========> Train acc: 0.995 | Test acc: 0.828\n",
      "Epoch  31 | Train Loss: 10.714122477918863\n",
      "=========> Train acc: 0.997 | Test acc: 0.829\n",
      "Epoch  32 | Train Loss: 11.101821818388999\n",
      "=========> Train acc: 0.992 | Test acc: 0.821\n",
      "Epoch  33 | Train Loss: 12.275276000145823\n",
      "=========> Train acc: 0.996 | Test acc: 0.828\n",
      "Epoch  34 | Train Loss: 11.879903111374006\n",
      "=========> Train acc: 0.995 | Test acc: 0.820\n",
      "Epoch  35 | Train Loss: 9.728550646686926\n",
      "=========> Train acc: 0.996 | Test acc: 0.826\n",
      "Epoch  36 | Train Loss: 10.453721936326474\n",
      "=========> Train acc: 0.995 | Test acc: 0.824\n",
      "Epoch  37 | Train Loss: 11.245446304092184\n",
      "=========> Train acc: 0.997 | Test acc: 0.830\n",
      "Epoch  38 | Train Loss: 11.682717904564925\n",
      "=========> Train acc: 0.995 | Test acc: 0.826\n",
      "Epoch  39 | Train Loss: 9.983974895440042\n",
      "=========> Train acc: 0.996 | Test acc: 0.829\n",
      "Epoch  40 | Train Loss: 10.378722150577232\n",
      "=========> Train acc: 0.996 | Test acc: 0.827\n",
      "Epoch  41 | Train Loss: 11.410087852505967\n",
      "=========> Train acc: 0.996 | Test acc: 0.829\n",
      "Epoch  42 | Train Loss: 10.001779321813956\n",
      "=========> Train acc: 0.995 | Test acc: 0.826\n",
      "Epoch  43 | Train Loss: 10.89398695458658\n",
      "=========> Train acc: 0.995 | Test acc: 0.824\n",
      "Epoch  44 | Train Loss: 10.740956241963431\n",
      "=========> Train acc: 0.997 | Test acc: 0.825\n",
      "Epoch  45 | Train Loss: 10.472455603536218\n",
      "=========> Train acc: 0.996 | Test acc: 0.828\n",
      "Epoch  46 | Train Loss: 11.641968552721664\n",
      "=========> Train acc: 0.995 | Test acc: 0.826\n",
      "Epoch  47 | Train Loss: 10.116796567803249\n",
      "=========> Train acc: 0.997 | Test acc: 0.825\n",
      "Epoch  48 | Train Loss: 9.298460216610692\n",
      "=========> Train acc: 0.994 | Test acc: 0.828\n",
      "Epoch  49 | Train Loss: 9.849734204821289\n",
      "=========> Train acc: 0.996 | Test acc: 0.826\n"
     ]
    }
   ],
   "source": [
    "import numpy as np\n",
    "train_and_test(50, 0.4)"
   ]
  },
  {
   "cell_type": "code",
   "execution_count": 14,
   "metadata": {},
   "outputs": [
    {
     "data": {
      "image/png": "[encoded data removed]",
      "text/plain": [
       "<Figure size 640x480 with 1 Axes>"
      ]
     },
     "metadata": {},
     "output_type": "display_data"
    }
   ],
   "source": [
    "plt.plot(train_acc_list, label = 'Train Acc')\n",
    "plt.plot(test_acc_list, label = 'Test Acc')\n",
    "plt.legend()\n",
    "plt.show()"
   ]
  },
  {
   "cell_type": "code",
   "execution_count": null,
   "metadata": {},
   "outputs": [],
   "source": []
  }
 ],
 "metadata": {
  "accelerator": "GPU",
  "colab": {
   "gpuType": "T4",
   "provenance": []
  },
  "kernelspec": {
   "display_name": "Python 3 (ipykernel)",
   "language": "python",
   "name": "python3"
  },
  "language_info": {
   "codemirror_mode": {
    "name": "ipython",
    "version": 3
   },
   "file_extension": ".py",
   "mimetype": "text/x-python",
   "name": "python",
   "nbconvert_exporter": "python",
   "pygments_lexer": "ipython3",
   "version": "3.11.7"
  }
 },
 "nbformat": 4,
 "nbformat_minor": 4
}
