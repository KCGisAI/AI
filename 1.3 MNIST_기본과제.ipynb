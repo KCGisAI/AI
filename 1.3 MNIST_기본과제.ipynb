{
 "cells": [
  {
   "cell_type": "markdown",
   "metadata": {},
   "source": [
    "MNIST 기본 과제"
   ]
  },
  {
   "cell_type": "code",
   "execution_count": 1,
   "metadata": {
    "executionInfo": {
     "elapsed": 6315,
     "status": "ok",
     "timestamp": 1724212693193,
     "user": {
      "displayName": "조승혁",
      "userId": "15759752471844115325"
     },
     "user_tz": -540
    },
    "id": "6lXVfXoDtoQh"
   },
   "outputs": [],
   "source": [
    "import torch\n",
    "import torchvision\n",
    "import torchvision.transforms as transforms\n",
    "\n",
    "transform = transforms.ToTensor()\n",
    "\n",
    "trainset = torchvision.datasets.MNIST(\n",
    "    root='./data',\n",
    "    train=True,\n",
    "    download=True,\n",
    "    transform=transform\n",
    ")\n",
    "\n",
    "batch_size = 256\n",
    "\n",
    "trainloader = torch.utils.data.DataLoader(\n",
    "    trainset,\n",
    "    batch_size=batch_size,\n",
    "    shuffle=True\n",
    ")\n",
    "\n",
    "testset = torchvision.datasets.MNIST(\n",
    "    root='./data',\n",
    "    train=False,\n",
    "    download=True,\n",
    "    transform=transform\n",
    ")\n",
    "\n",
    "testloader = torch.utils.data.DataLoader(\n",
    "    testset,\n",
    "    batch_size=batch_size,\n",
    "    shuffle=False\n",
    ")"
   ]
  },
  {
   "cell_type": "code",
   "execution_count": 2,
   "metadata": {
    "colab": {
     "base_uri": "https://localhost:8080/",
     "height": 481
    },
    "executionInfo": {
     "elapsed": 601,
     "status": "ok",
     "timestamp": 1724212727291,
     "user": {
      "displayName": "조승혁",
      "userId": "15759752471844115325"
     },
     "user_tz": -540
    },
    "id": "Zsp3sHmojyhT",
    "outputId": "3511bb75-e677-4fb8-894b-69e22c80f4bc"
   },
   "outputs": [
    {
     "name": "stdout",
     "output_type": "stream",
     "text": [
      "60000\n",
      "torch.Size([1, 28, 28]) 5\n"
     ]
    },
    {
     "data": {
      "text/plain": [
       "<matplotlib.image.AxesImage at 0x1ecd320fc90>"
      ]
     },
     "execution_count": 2,
     "metadata": {},
     "output_type": "execute_result"
    },
    {
     "data": {
      "image/png": "[encoded data removed]",
      "text/plain": [
       "<Figure size 640x480 with 1 Axes>"
      ]
     },
     "metadata": {},
     "output_type": "display_data"
    }
   ],
   "source": [
    "from matplotlib import pyplot as plt\n",
    "\n",
    "\n",
    "print(len(trainset)) #이미지 데이터 총 6만개\n",
    "print(trainset[0][0].shape, trainset[0][1])\n",
    "#데이터 6만개중 첫번째 배열의 크기\n",
    "#데이터 6만개중 첫번째는 어떤 수로 label 되어있는지\n",
    "plt.imshow(trainset[0][0][0], cmap='gray')\n",
    "#세번째 [0]이 사진과 match 되어있는지? "
   ]
  },
  {
   "cell_type": "code",
   "execution_count": 3,
   "metadata": {
    "id": "UxKu3kA2i5WH"
   },
   "outputs": [
    {
     "name": "stdout",
     "output_type": "stream",
     "text": [
      "torch.Size([256, 1, 28, 28]) torch.Size([256])\n"
     ]
    }
   ],
   "source": [
    "dataiter = iter(trainloader)\n",
    "images, labels = next(dataiter) #dataiter에서 하나 뽑아옴\n",
    "print(images.shape, labels.shape) \n",
    "#image 배열의 데이터 설명임\n",
    "#28x28 이미지 데이터를 64개의 batch size로 설정함\n",
    "#labels의 경우 이미지 데이터의 label이므로 1x64의 크기"
   ]
  },
  {
   "cell_type": "code",
   "execution_count": 4,
   "metadata": {
    "colab": {
     "base_uri": "https://localhost:8080/"
    },
    "executionInfo": {
     "elapsed": 33,
     "status": "ok",
     "timestamp": 1723366306519,
     "user": {
      "displayName": "조승혁",
      "userId": "15759752471844115325"
     },
     "user_tz": -540
    },
    "id": "_Hd7XxyAvVNz",
    "outputId": "185acb61-2ed7-4110-b325-c0e016ca60b0"
   },
   "outputs": [],
   "source": [
    "from torch import nn\n",
    "\n",
    "class SoftMaxClassifierModel(nn.Module):\n",
    "  def __init__(self, input_dim, n_dim):\n",
    "    super().__init__()\n",
    "\n",
    "    self.layer1 = nn.Linear(input_dim, n_dim)\n",
    "    self.layer2 = nn.Linear(n_dim, n_dim)\n",
    "    self.layer3 = nn.Linear(n_dim, 10) #0~9의 확률이 나오기때문\n",
    "\n",
    "    self.act = nn.ReLU()\n",
    "\n",
    "  def forward(self, x):\n",
    "    x = torch.flatten(x, start_dim=1)\n",
    "    x = self.act(self.layer1(x))\n",
    "    x = self.act(self.layer2(x))\n",
    "    x = self.act(self.layer3(x))\n",
    "\n",
    "    return x\n",
    "\n",
    "model = SoftMaxClassifierModel(28 * 28 * 1, 10)"
   ]
  },
  {
   "cell_type": "code",
   "execution_count": 5,
   "metadata": {
    "id": "OLOA-ZGTuVVG"
   },
   "outputs": [],
   "source": [
    "from torch.optim import SGD\n",
    "import torch.nn.functional as f\n",
    "\n",
    "lr = 0.001\n",
    "model = model.to('cuda')\n",
    "\n",
    "optimizer = SGD(model.parameters(), lr=lr)"
   ]
  },
  {
   "cell_type": "code",
   "execution_count": 7,
   "metadata": {},
   "outputs": [],
   "source": [
    "def accuracy(model, dataloader):\n",
    "  cnt = 0\n",
    "  acc = 0\n",
    "\n",
    "  for data in dataloader:\n",
    "    inputs, labels = data\n",
    "    inputs, labels = inputs.to('cuda'), labels.to('cuda')\n",
    "\n",
    "    preds = model(inputs)\n",
    "    preds = torch.argmax(preds, dim=1)\n",
    "      \n",
    "    # torch.max에서 두 번째 인자는 dim을 의미\n",
    "    # 1로 지정했다는 것은 하나의 행에서 가장 큰 값을 찾겠다는 것\n",
    "      \n",
    "    cnt += labels.shape[0]\n",
    "    acc += (labels == preds).sum().item()\n",
    "\n",
    "  return acc * 100 / cnt"
   ]
  },
  {
   "cell_type": "code",
   "execution_count": 8,
   "metadata": {},
   "outputs": [
    {
     "name": "stdout",
     "output_type": "stream",
     "text": [
      "epoch : 0 | loss : 2.326465\n",
      "epoch : 1 | loss : 2.324064\n",
      "epoch : 2 | loss : 2.321715\n",
      "epoch : 3 | loss : 2.319719\n",
      "epoch : 4 | loss : 2.317667\n",
      "epoch : 5 | loss : 2.315773\n",
      "epoch : 6 | loss : 2.313890\n",
      "epoch : 7 | loss : 2.312136\n",
      "epoch : 8 | loss : 2.310214\n",
      "epoch : 9 | loss : 2.308234\n",
      "epoch : 10 | loss : 2.306195\n",
      "epoch : 11 | loss : 2.304051\n",
      "epoch : 12 | loss : 2.301923\n",
      "epoch : 13 | loss : 2.299759\n",
      "epoch : 14 | loss : 2.297660\n",
      "epoch : 15 | loss : 2.295347\n",
      "epoch : 16 | loss : 2.292989\n",
      "epoch : 17 | loss : 2.290352\n",
      "epoch : 18 | loss : 2.287616\n",
      "epoch : 19 | loss : 2.284582\n",
      "epoch : 20 | loss : 2.281313\n",
      "epoch : 21 | loss : 2.277761\n",
      "epoch : 22 | loss : 2.273904\n",
      "epoch : 23 | loss : 2.269914\n",
      "epoch : 24 | loss : 2.265728\n",
      "epoch : 25 | loss : 2.261470\n",
      "epoch : 26 | loss : 2.256830\n",
      "epoch : 27 | loss : 2.252035\n",
      "epoch : 28 | loss : 2.246891\n",
      "epoch : 29 | loss : 2.241559\n",
      "epoch : 30 | loss : 2.235913\n",
      "epoch : 31 | loss : 2.229864\n",
      "epoch : 32 | loss : 2.223517\n",
      "epoch : 33 | loss : 2.216734\n",
      "epoch : 34 | loss : 2.209221\n",
      "epoch : 35 | loss : 2.200814\n",
      "epoch : 36 | loss : 2.190468\n",
      "epoch : 37 | loss : 2.179058\n",
      "epoch : 38 | loss : 2.167496\n",
      "epoch : 39 | loss : 2.155748\n",
      "epoch : 40 | loss : 2.143363\n",
      "epoch : 41 | loss : 2.130577\n",
      "epoch : 42 | loss : 2.117472\n",
      "epoch : 43 | loss : 2.103971\n",
      "epoch : 44 | loss : 2.090274\n",
      "epoch : 45 | loss : 2.076140\n",
      "epoch : 46 | loss : 2.061638\n",
      "epoch : 47 | loss : 2.046982\n",
      "epoch : 48 | loss : 2.031744\n",
      "epoch : 49 | loss : 2.016468\n",
      "epoch : 50 | loss : 2.001151\n",
      "epoch : 51 | loss : 1.986607\n",
      "epoch : 52 | loss : 1.971928\n",
      "epoch : 53 | loss : 1.958028\n",
      "epoch : 54 | loss : 1.944438\n",
      "epoch : 55 | loss : 1.931382\n",
      "epoch : 56 | loss : 1.918232\n",
      "epoch : 57 | loss : 1.905428\n",
      "epoch : 58 | loss : 1.892916\n",
      "epoch : 59 | loss : 1.880818\n",
      "epoch : 60 | loss : 1.867922\n",
      "epoch : 61 | loss : 1.855147\n",
      "epoch : 62 | loss : 1.841675\n",
      "epoch : 63 | loss : 1.828178\n",
      "epoch : 64 | loss : 1.814926\n",
      "epoch : 65 | loss : 1.801916\n",
      "epoch : 66 | loss : 1.787956\n",
      "epoch : 67 | loss : 1.774448\n",
      "epoch : 68 | loss : 1.761209\n",
      "epoch : 69 | loss : 1.747566\n",
      "epoch : 70 | loss : 1.734108\n",
      "epoch : 71 | loss : 1.720717\n",
      "epoch : 72 | loss : 1.706119\n",
      "epoch : 73 | loss : 1.691921\n",
      "epoch : 74 | loss : 1.678516\n",
      "epoch : 75 | loss : 1.663532\n",
      "epoch : 76 | loss : 1.648452\n",
      "epoch : 77 | loss : 1.633999\n",
      "epoch : 78 | loss : 1.618836\n",
      "epoch : 79 | loss : 1.603892\n",
      "epoch : 80 | loss : 1.589349\n",
      "epoch : 81 | loss : 1.574372\n",
      "epoch : 82 | loss : 1.559184\n",
      "epoch : 83 | loss : 1.544212\n",
      "epoch : 84 | loss : 1.529503\n",
      "epoch : 85 | loss : 1.514945\n",
      "epoch : 86 | loss : 1.500674\n",
      "epoch : 87 | loss : 1.485952\n",
      "epoch : 88 | loss : 1.472648\n",
      "epoch : 89 | loss : 1.458434\n",
      "epoch : 90 | loss : 1.445499\n",
      "epoch : 91 | loss : 1.432376\n",
      "epoch : 92 | loss : 1.420131\n",
      "epoch : 93 | loss : 1.407964\n",
      "epoch : 94 | loss : 1.396566\n",
      "epoch : 95 | loss : 1.385229\n",
      "epoch : 96 | loss : 1.374506\n",
      "epoch : 97 | loss : 1.363965\n",
      "epoch : 98 | loss : 1.353690\n",
      "epoch : 99 | loss : 1.343977\n"
     ]
    }
   ],
   "source": [
    "n_epochs = 100\n",
    "train_loss = []\n",
    "test_loss = []\n",
    "\n",
    "train_accuracy = []\n",
    "test_accuracy = []\n",
    "\n",
    "criterion = nn.CrossEntropyLoss()\n",
    "\n",
    "for epoch in range(n_epochs):\n",
    "    cost = 0.\n",
    "    cnt = 0\n",
    "    acc = 0\n",
    "    for data in trainloader:\n",
    "        model.zero_grad()\n",
    "        inputs, labels = data\n",
    "        inputs, labels = inputs.to('cuda'), labels.to('cuda')\n",
    "\n",
    "        outputs = model(inputs)\n",
    "        loss = criterion(outputs, labels)\n",
    "        loss.backward()\n",
    "        optimizer.step()\n",
    "        cost += loss.item() #1epoch의 총 Loss Batch size 만큼 더함\n",
    "        cnt += labels.shape[0]\n",
    "\n",
    "        preds = torch.argmax(outputs, dim=1)\n",
    "        acc += (labels == preds).sum().item()\n",
    "    train_accuracy.append(acc/cnt)\n",
    "    train_loss.append(cost/len(trainloader)) # epoch 별 평균 손실 저장\n",
    "    print(\"epoch : {} | loss : {:.6f}\" .format(epoch, cost/len(trainloader)))\n",
    "        \n",
    "    with torch.no_grad():# 미분하지 않겠다\n",
    "        model.eval()\n",
    "        cnt = 0\n",
    "        acc = 0\n",
    "        cost = 0\n",
    "        \n",
    "        for data in testloader:\n",
    "            inputs, labels = data\n",
    "            inputs, labels = inputs.to('cuda'), labels.to('cuda')\n",
    "            \n",
    "            outputs = model(inputs)    \n",
    "        \n",
    "            loss = criterion(outputs, labels)\n",
    "            cost += loss.item()\n",
    "            cnt += labels.shape[0]\n",
    "\n",
    "            preds = torch.argmax(outputs, dim=1)\n",
    "            acc += (labels == preds).sum().item() #labels 와 preds는 True or false 로 반환됨\n",
    "            # sum은 0또는 1을 다 합해서 총 맞춘 수를 확인할수있음\n",
    "        test_accuracy.append(acc/cnt)\n",
    "        test_loss.append(cost/len(testloader))"
   ]
  },
  {
   "cell_type": "code",
   "execution_count": 9,
   "metadata": {},
   "outputs": [
    {
     "data": {
      "image/png": "[encoded data removed]",
      "text/plain": [
       "<Figure size 640x480 with 1 Axes>"
      ]
     },
     "metadata": {},
     "output_type": "display_data"
    },
    {
     "data": {
      "image/png": "[encoded data removed]",
      "text/plain": [
       "<Figure size 640x480 with 1 Axes>"
      ]
     },
     "metadata": {},
     "output_type": "display_data"
    }
   ],
   "source": [
    "plt.plot(train_loss, label='Train Loss')\n",
    "plt.plot(test_loss, label ='Test Loss')\n",
    "plt.legend()\n",
    "plt.show()\n",
    "plt.clf()\n",
    "plt.plot(test_accuracy, label='test accuracy')\n",
    "plt.plot(train_accuracy, label ='train accuracy')\n",
    "plt.legend()\n",
    "plt.show()\n"
   ]
  },
  {
   "cell_type": "code",
   "execution_count": null,
   "metadata": {},
   "outputs": [],
   "source": []
  },
  {
   "cell_type": "code",
   "execution_count": null,
   "metadata": {
    "colab": {
     "base_uri": "https://localhost:8080/"
    },
    "executionInfo": {
     "elapsed": 786155,
     "status": "ok",
     "timestamp": 1723367093025,
     "user": {
      "displayName": "조승혁",
      "userId": "15759752471844115325"
     },
     "user_tz": -540
    },
    "id": "TryX1hewvNiB",
    "outputId": "4e4a9282-d49a-40ff-c26c-d00fb7c0af79"
   },
   "outputs": [],
   "source": []
  },
  {
   "cell_type": "code",
   "execution_count": null,
   "metadata": {
    "id": "d6M4SpWQoML9"
   },
   "outputs": [],
   "source": []
  }
 ],
 "metadata": {
  "accelerator": "GPU",
  "colab": {
   "authorship_tag": "ABX9TyOz7vBAsZ4WYLph4xp9q2ee",
   "gpuType": "T4",
   "provenance": []
  },
  "kernelspec": {
   "display_name": "Python 3 (ipykernel)",
   "language": "python",
   "name": "python3"
  },
  "language_info": {
   "codemirror_mode": {
    "name": "ipython",
    "version": 3
   },
   "file_extension": ".py",
   "mimetype": "text/x-python",
   "name": "python",
   "nbconvert_exporter": "python",
   "pygments_lexer": "ipython3",
   "version": "3.11.7"
  }
 },
 "nbformat": 4,
 "nbformat_minor": 4
}
